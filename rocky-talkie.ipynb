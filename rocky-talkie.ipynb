{
 "cells": [
  {
   "attachments": {},
   "cell_type": "markdown",
   "metadata": {},
   "source": [
    "# Extracting table of frequencies in PDF to CSV\n",
    "Used to add channels to Anytone radio to enable compatability with Rocky Talkie radios"
   ]
  },
  {
   "cell_type": "code",
   "execution_count": 30,
   "metadata": {},
   "outputs": [],
   "source": [
    "import PyPDF2"
   ]
  },
  {
   "cell_type": "code",
   "execution_count": 31,
   "metadata": {},
   "outputs": [
    {
     "name": "stderr",
     "output_type": "stream",
     "text": [
      "Xref table not zero-indexed. ID numbers for objects will be corrected.\n"
     ]
    }
   ],
   "source": [
    "reader = PyPDF2.PdfReader('./pdfs/RockyTalkies.pdf', 'rb')"
   ]
  },
  {
   "cell_type": "code",
   "execution_count": 44,
   "metadata": {},
   "outputs": [],
   "source": [
    "data = []"
   ]
  },
  {
   "attachments": {},
   "cell_type": "markdown",
   "metadata": {},
   "source": [
    "Experementing with just the first page that needs to be read"
   ]
  },
  {
   "cell_type": "code",
   "execution_count": 32,
   "metadata": {},
   "outputs": [],
   "source": [
    "page1 = reader.pages[10]"
   ]
  },
  {
   "cell_type": "code",
   "execution_count": 33,
   "metadata": {},
   "outputs": [],
   "source": [
    "page1 = page1.extract_text()"
   ]
  },
  {
   "cell_type": "code",
   "execution_count": 34,
   "metadata": {},
   "outputs": [
    {
     "name": "stdout",
     "output_type": "stream",
     "text": [
      "10Channel Frequency (MHZ) Power\n",
      "1 462.5625 2 watt\n",
      "2 462.5875 2 watt\n",
      "3 462.6125 2 watt\n",
      "4 462.6375 2 watt\n",
      "5 462.6625 2 watt\n",
      "6 462.6875 2 watt\n",
      "7 462.7125 2 watt\n",
      "8 467.5625 0.5 watt\n",
      "9 467.5875 0.5 watt\n",
      "10 467.6125 0.5 watt\n",
      "11 467.6375 0.5 watt\n",
      "12 467.6625 0.5 watt\n",
      "13 467.6875 0.5 watt\n",
      "14 467.7125 0.5 watt\n",
      "15 462.5500 2 watt\n",
      "16 462.5750 2 watt\n",
      "17 462.6000 2 watt\n",
      "18 462.6250 2 watt\n",
      "19 462.6500 2 watt\n",
      "20 462.6750 2 wattCHannel settings\n",
      "Each channel on the Rocky Talkie is set to one of the 22 allowed FRS \n",
      "frequencies. The first 22 channels come preset with with no privacy \n",
      "code activated. The rest of the 128 channels are preset with a privacy \n",
      "code to make finding an open channel easier. Each channel’s power \n",
      "settings is preset to conform with FRS regulations.\n"
     ]
    }
   ],
   "source": [
    "print(page1)"
   ]
  },
  {
   "cell_type": "code",
   "execution_count": 35,
   "metadata": {},
   "outputs": [],
   "source": [
    "page1ra = page1.split('\\n')"
   ]
  },
  {
   "cell_type": "code",
   "execution_count": 36,
   "metadata": {},
   "outputs": [],
   "source": [
    "page1ra = page1ra[1:21]"
   ]
  },
  {
   "cell_type": "code",
   "execution_count": 37,
   "metadata": {},
   "outputs": [
    {
     "data": {
      "text/plain": [
       "['1 462.5625 2 watt',\n",
       " '2 462.5875 2 watt',\n",
       " '3 462.6125 2 watt',\n",
       " '4 462.6375 2 watt',\n",
       " '5 462.6625 2 watt',\n",
       " '6 462.6875 2 watt',\n",
       " '7 462.7125 2 watt',\n",
       " '8 467.5625 0.5 watt',\n",
       " '9 467.5875 0.5 watt',\n",
       " '10 467.6125 0.5 watt',\n",
       " '11 467.6375 0.5 watt',\n",
       " '12 467.6625 0.5 watt',\n",
       " '13 467.6875 0.5 watt',\n",
       " '14 467.7125 0.5 watt',\n",
       " '15 462.5500 2 watt',\n",
       " '16 462.5750 2 watt',\n",
       " '17 462.6000 2 watt',\n",
       " '18 462.6250 2 watt',\n",
       " '19 462.6500 2 watt',\n",
       " '20 462.6750 2 wattCHannel settings']"
      ]
     },
     "execution_count": 37,
     "metadata": {},
     "output_type": "execute_result"
    }
   ],
   "source": [
    "page1ra"
   ]
  },
  {
   "cell_type": "code",
   "execution_count": 38,
   "metadata": {},
   "outputs": [],
   "source": [
    "# Clean up the CHannel settings bit on the last row\n",
    "page1ra[19] = page1ra[19].split('C')[0]"
   ]
  },
  {
   "cell_type": "code",
   "execution_count": 45,
   "metadata": {},
   "outputs": [],
   "source": [
    "for row in page1ra:\n",
    "  row = row.split(' ', maxsplit=2)\n",
    "  data.append(row)"
   ]
  },
  {
   "cell_type": "code",
   "execution_count": 46,
   "metadata": {},
   "outputs": [
    {
     "data": {
      "text/plain": [
       "[['1', '462.5625', '2 watt'],\n",
       " ['2', '462.5875', '2 watt'],\n",
       " ['3', '462.6125', '2 watt'],\n",
       " ['4', '462.6375', '2 watt'],\n",
       " ['5', '462.6625', '2 watt'],\n",
       " ['6', '462.6875', '2 watt'],\n",
       " ['7', '462.7125', '2 watt'],\n",
       " ['8', '467.5625', '0.5 watt'],\n",
       " ['9', '467.5875', '0.5 watt'],\n",
       " ['10', '467.6125', '0.5 watt'],\n",
       " ['11', '467.6375', '0.5 watt'],\n",
       " ['12', '467.6625', '0.5 watt'],\n",
       " ['13', '467.6875', '0.5 watt'],\n",
       " ['14', '467.7125', '0.5 watt'],\n",
       " ['15', '462.5500', '2 watt'],\n",
       " ['16', '462.5750', '2 watt'],\n",
       " ['17', '462.6000', '2 watt'],\n",
       " ['18', '462.6250', '2 watt'],\n",
       " ['19', '462.6500', '2 watt'],\n",
       " ['20', '462.6750', '2 watt']]"
      ]
     },
     "execution_count": 46,
     "metadata": {},
     "output_type": "execute_result"
    }
   ],
   "source": [
    "data"
   ]
  },
  {
   "cell_type": "code",
   "execution_count": null,
   "metadata": {},
   "outputs": [],
   "source": []
  }
 ],
 "metadata": {
  "kernelspec": {
   "display_name": "env",
   "language": "python",
   "name": "python3"
  },
  "language_info": {
   "codemirror_mode": {
    "name": "ipython",
    "version": 3
   },
   "file_extension": ".py",
   "mimetype": "text/x-python",
   "name": "python",
   "nbconvert_exporter": "python",
   "pygments_lexer": "ipython3",
   "version": "3.8.3"
  },
  "orig_nbformat": 4
 },
 "nbformat": 4,
 "nbformat_minor": 2
}
